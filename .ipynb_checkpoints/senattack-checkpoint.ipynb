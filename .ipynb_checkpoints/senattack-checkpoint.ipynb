{
 "cells": [
  {
   "cell_type": "code",
   "execution_count": 1,
   "id": "dc7eee5e",
   "metadata": {},
   "outputs": [],
   "source": [
    "import numpy as np\n",
    "import json\n",
    "import os\n",
    "import sys\n",
    "import time\n",
    "import warnings\n",
    "warnings.filterwarnings('ignore')\n",
    "import matplotlib.pyplot as plt\n",
    "%matplotlib inline\n",
    "import torch\n",
    "import torch.nn as nn\n",
    "import torch.optim as optim\n",
    "\n",
    "import torchvision.utils\n",
    "from torchvision import models\n",
    "import torchvision.datasets as dsets\n",
    "import torchvision.transforms as transforms\n",
    "\n",
    "from torchattacks import *\n",
    "from loader_sampler import *\n",
    "from utils import *\n",
    "\n",
    "from tqdm import tqdm\n",
    "# from utils import imshow, image_folder_custom_label"
   ]
  },
  {
   "cell_type": "code",
   "execution_count": 2,
   "id": "94b9f992",
   "metadata": {},
   "outputs": [],
   "source": [
    "Batch_size = 100\n",
    "thr = 10000\n",
    "attack = \"PGD\"\n",
    "model_name = \"vgg11\""
   ]
  },
  {
   "cell_type": "code",
   "execution_count": 3,
   "id": "cb9ede29",
   "metadata": {},
   "outputs": [
    {
     "name": "stdout",
     "output_type": "stream",
     "text": [
      "cuda\n"
     ]
    }
   ],
   "source": [
    "use_cuda = torch.cuda.is_available()\n",
    "device = torch.device(\"cuda\" if use_cuda else \"cpu\")\n",
    "print(device)"
   ]
  },
  {
   "cell_type": "code",
   "execution_count": 4,
   "id": "32557b2f",
   "metadata": {},
   "outputs": [],
   "source": [
    "transform = transforms.Compose(\n",
    "        [\n",
    "            transforms.Resize(256),\n",
    "            transforms.CenterCrop(224),\n",
    "            transforms.ToTensor(),\n",
    "            #transforms.Normalize(mean=[0.485, 0.456, 0.406], std=[0.229, 0.224, 0.225]),\n",
    "        ]\n",
    "    )\n",
    "# val_dataset = torchvision.datasets.ImageNet(root=\"../dataset\", split='val',transform=transform)\n",
    "val_dataset = torchvision.datasets.ImageNet(root=\"/home/h2amer/AhmedH.Salamah/ilsvrc2012\", split='val',transform=transform)\n",
    "val_loader = torch.utils.data.DataLoader(val_dataset, batch_size=Batch_size, shuffle=True, num_workers=28)"
   ]
  },
  {
   "cell_type": "code",
   "execution_count": 5,
   "id": "583f9654",
   "metadata": {},
   "outputs": [],
   "source": [
    "transform = transforms.Compose(\n",
    "        [\n",
    "            transforms.Resize(256),\n",
    "            transforms.CenterCrop(224),\n",
    "            transforms.ToTensor(),\n",
    "            #transforms.Normalize(mean=[0.485, 0.456, 0.406], std=[0.229, 0.224, 0.225]),\n",
    "        ]\n",
    "    )\n",
    "train_dataset = random_sampler(root=\"/home/h2amer/AhmedH.Salamah/ilsvrc2012\", t_split='train',transform=transform)\n",
    "# train_dataset = torchvision.datasets.ImageNet(root=\"../dataset\", split='train',transform=transform)\n",
    "train_loader = torch.utils.data.DataLoader(train_dataset, batch_size=Batch_size, shuffle=True, num_workers=28)"
   ]
  },
  {
   "cell_type": "markdown",
   "id": "19db17e6",
   "metadata": {},
   "source": [
    "# load model"
   ]
  },
  {
   "cell_type": "code",
   "execution_count": 6,
   "id": "6acfc34a",
   "metadata": {},
   "outputs": [],
   "source": [
    "class Normalize(nn.Module):\n",
    "    def __init__(self, mean, std) :\n",
    "        super(Normalize, self).__init__()\n",
    "        self.register_buffer('mean', torch.Tensor(mean))\n",
    "        self.register_buffer('std', torch.Tensor(std))\n",
    "        \n",
    "    def forward(self, input):\n",
    "        # Broadcasting\n",
    "        mean = self.mean.reshape(1, 3, 1, 1)\n",
    "        std = self.std.reshape(1, 3, 1, 1)\n",
    "        return (input - mean) / std"
   ]
  },
  {
   "cell_type": "code",
   "execution_count": 7,
   "id": "35ca044c",
   "metadata": {},
   "outputs": [],
   "source": [
    "norm_layer = Normalize(mean=[0.485, 0.456, 0.406], std=[0.229, 0.224, 0.225])"
   ]
  },
  {
   "cell_type": "code",
   "execution_count": 8,
   "id": "2790f74c",
   "metadata": {},
   "outputs": [],
   "source": [
    "pretrained_models = {\n",
    "    \"resnet18\":models.resnet18(pretrained=True),\n",
    "    \"alexNet\":models.alexnet(pretrained=True),\n",
    "    \"vgg11\":models.vgg11(pretrained=True),\n",
    "    \"mobilenet\":models.mobilenet_v3_large(pretrained = True)\n",
    "    }\n",
    "\n",
    "\n",
    "pretrained_model = pretrained_models[model_name]\n",
    "\n",
    "model = nn.Sequential(\n",
    "    norm_layer,\n",
    "    pretrained_model\n",
    ").to(device)\n",
    "model = model.eval()"
   ]
  },
  {
   "cell_type": "code",
   "execution_count": 9,
   "id": "69a14fcf",
   "metadata": {},
   "outputs": [],
   "source": [
    "atks = {\"FGSM\" : FGSM(pretrained_model, eps=8/255),\n",
    "        \"BIM\" : BIM(pretrained_model, eps=8/255, alpha=2/255, steps=100),\n",
    "        \"RFGSM\" :  RFGSM(pretrained_model, eps=8/255, alpha=2/255, steps=100),\n",
    "        \"CW\"    :CW(pretrained_model, c=1, lr=0.01, steps=100, kappa=0),\n",
    "        \"PGD\" :   PGD(pretrained_model, eps=8/255, alpha=2/225, steps=50, random_start=True),\n",
    "        \"PGDL2\":   PGDL2(pretrained_model, eps=1, alpha=0.2, steps=100),\n",
    "        \"EOTPGD\":   EOTPGD(pretrained_model, eps=8/255, alpha=2/255, steps=100, eot_iter=2),\n",
    "        \"FFGSM\" :  FFGSM(pretrained_model, eps=8/255, alpha=10/255),\n",
    "        \"TPGD\" :   TPGD(pretrained_model, eps=8/255, alpha=2/255, steps=100),\n",
    "        \"MIFGSM\" : MIFGSM(pretrained_model, eps=8/255, alpha=2/255, steps=100, decay=0.1),\n",
    "        \"VANILA\" : VANILA(pretrained_model),\n",
    "        \"GN\" : GN(pretrained_model, std=0.1),\n",
    "        \"APGD_ce\" :APGD(pretrained_model, eps=8/255, steps=100, eot_iter=1, n_restarts=1, loss='ce'),\n",
    "        \"APGD_dlr\" : APGD(pretrained_model, eps=8/255, steps=100, eot_iter=1, n_restarts=1, loss='dlr'),\n",
    "        \"APGDT\":APGDT(pretrained_model, eps=8/255, steps=100, eot_iter=1, n_restarts=1),\n",
    "        \"FAB\":  FAB(pretrained_model, eps=8/255, steps=100, n_classes=10, n_restarts=1, targeted=False),\n",
    "        \"FAB_target\": FAB(pretrained_model, eps=8/255, steps=100, n_classes=10, n_restarts=1, targeted=True),\n",
    "        \"SQUARE\": Square(pretrained_model, eps=8/255, n_queries=5000, n_restarts=1, loss='ce'),\n",
    "        \"AUTOATTACK\": AutoAttack(pretrained_model, eps=8/255, n_classes=10, version='standard'),\n",
    "        \"OnePixel\": OnePixel(pretrained_model, pixels=5, inf_batch=50),\n",
    "        \"DEEPFOOL\": DeepFool(pretrained_model, steps=100),\n",
    "        \"DIFGSM\":DIFGSM(pretrained_model, eps=8/255, alpha=2/255, steps=100, diversity_prob=0.5, resize_rate=0.9)\n",
    "    }\n",
    "\n",
    "atk = atks[attack]"
   ]
  },
  {
   "cell_type": "code",
   "execution_count": 10,
   "id": "8055e00a",
   "metadata": {},
   "outputs": [
    {
     "name": "stderr",
     "output_type": "stream",
     "text": [
      "  1%|█                                                                                                                                              | 99/12812 [02:00<4:17:40,  1.22s/it]\n"
     ]
    }
   ],
   "source": [
    "idx = 0\n",
    "Y_sen_list = np.empty([0, 8, 8])\n",
    "Cb_sen_list = np.empty([0, 8, 8])\n",
    "Cr_sen_list = np.empty([0, 8, 8])\n",
    "\n",
    "for images, labels in tqdm(train_loader):\n",
    "    img_shape = images.shape[-2:]\n",
    "    images, labels = images.to(device), labels.to(device)\n",
    "    # ignore adv\n",
    "    adv_images = images\n",
    "    # DCT \n",
    "    ycbcr_adv_images = rgb_to_ycbcr(adv_images)\n",
    "    input_adv_DCT_block_batch = block_dct(blockify(ycbcr_adv_images, 8))\n",
    "    input_adv_DCT_block_batch.requires_grad = True\n",
    "    recoverd_adv_img = deblockify(block_idct(input_adv_DCT_block_batch), (img_shape[0], img_shape[1]))\n",
    "    # feed the attack to DNN\n",
    "    outputs = model(ycbcr_to_rgb(recoverd_adv_img))\n",
    "    _, pre = torch.max(outputs.data, 1)\n",
    "    loss = torch.nn.CrossEntropyLoss()(outputs, pre)\n",
    "    model.zero_grad()\n",
    "    loss.backward()\n",
    "    data_grad = torch.mean(torch.abs(input_adv_DCT_block_batch.grad), dim = 2).transpose(1,0).detach().cpu().numpy()\n",
    "    Y_sen_list = np.concatenate((Y_sen_list, data_grad[0].reshape(-1, 8, 8)))\n",
    "    Cb_sen_list = np.concatenate((Cb_sen_list, data_grad[1].reshape(-1, 8, 8)))\n",
    "    Cr_sen_list = np.concatenate((Cr_sen_list, data_grad[2].reshape(-1, 8, 8)))\n",
    "    idx += Batch_size\n",
    "    if idx >= thr:\n",
    "        break"
   ]
  },
  {
   "cell_type": "code",
   "execution_count": 14,
   "id": "aba292a9",
   "metadata": {},
   "outputs": [
    {
     "name": "stderr",
     "output_type": "stream",
     "text": [
      "100%|████████████████████████████████████████████████████████████████████████████████████████████████████████████████████████████████████████████████████| 64/64 [00:32<00:00,  1.97it/s]\n",
      "100%|████████████████████████████████████████████████████████████████████████████████████████████████████████████████████████████████████████████████████| 64/64 [00:32<00:00,  1.98it/s]\n",
      "100%|████████████████████████████████████████████████████████████████████████████████████████████████████████████████████████████████████████████████████| 64/64 [00:32<00:00,  1.98it/s]\n"
     ]
    }
   ],
   "source": [
    "[Y_b,Y_m,Y_u] = plot_save_senmap(Y_sen_list, \"Y\", model_name)\n",
    "[Cb_b,Cb_m,Cb_u] = plot_save_senmap(Cb_sen_list, \"Cb\", model_name)\n",
    "[Cr_b,Cr_m,Cr_u] = plot_save_senmap(Cr_sen_list, \"Cr\", model_name)"
   ]
  },
  {
   "cell_type": "code",
   "execution_count": null,
   "id": "52a0db2a",
   "metadata": {},
   "outputs": [
    {
     "name": "stderr",
     "output_type": "stream",
     "text": [
      "  5%|███████▎                                                                                                                                         | 25/500 [04:43<1:28:55, 11.23s/it]"
     ]
    }
   ],
   "source": [
    "idx = 0\n",
    "Y_sen_list = np.empty([0, 8, 8])\n",
    "Cb_sen_list = np.empty([0, 8, 8])\n",
    "Cr_sen_list = np.empty([0, 8, 8])\n",
    "\n",
    "for images, labels in tqdm(val_loader):\n",
    "    img_shape = images.shape[-2:]\n",
    "    images, labels = images.to(device), labels.to(device)\n",
    "    # generate adv images\n",
    "    adv_images = atk(images, labels)\n",
    "    # adv_images = images\n",
    "    # DCT \n",
    "    ycbcr_adv_images = rgb_to_ycbcr(adv_images)\n",
    "    input_adv_DCT_block_batch = block_dct(blockify(ycbcr_adv_images, 8))\n",
    "    input_adv_DCT_block_batch.requires_grad = True\n",
    "    recoverd_adv_img = deblockify(block_idct(input_adv_DCT_block_batch), (img_shape[0], img_shape[1]))\n",
    "    # feed the attack to DNN\n",
    "    outputs = model(ycbcr_to_rgb(recoverd_adv_img))\n",
    "    _, pre = torch.max(outputs.data, 1)\n",
    "    loss = torch.nn.CrossEntropyLoss()(outputs, pre)\n",
    "    model.zero_grad()\n",
    "    loss.backward()\n",
    "    data_grad = torch.mean(torch.abs(input_adv_DCT_block_batch.grad), dim = 2).transpose(1,0).detach().cpu().numpy()\n",
    "    Y_sen_list = np.concatenate((Y_sen_list, data_grad[0].reshape(-1, 8, 8)))\n",
    "    Cb_sen_list = np.concatenate((Cb_sen_list, data_grad[1].reshape(-1, 8, 8)))\n",
    "    Cr_sen_list = np.concatenate((Cr_sen_list, data_grad[2].reshape(-1, 8, 8)))\n",
    "    idx += Batch_size\n",
    "    if idx >= thr:\n",
    "        break"
   ]
  },
  {
   "cell_type": "code",
   "execution_count": null,
   "id": "a423a973",
   "metadata": {},
   "outputs": [],
   "source": [
    "[Y_adv_b,Y_adv_m,Y_adv_u] = plot_save_senmap(Y_sen_list, \"Y_adv\", model_name)\n",
    "[Cb_adv_b,Cb_adv_m,Cb_adv_u] = plot_save_senmap(Cb_sen_list, \"Cb_adv\", model_name)\n",
    "[Cr_adv_b,Cr_adv_m,Cr_adv_u] = plot_save_senmap(Cr_sen_list, \"Cr_adv\", model_name)"
   ]
  },
  {
   "cell_type": "code",
   "execution_count": null,
   "id": "0e7deaf9",
   "metadata": {},
   "outputs": [],
   "source": [
    "plt.figure(figsize=(10, 8), dpi=1024)\n",
    "plt.plot(Y_adv_b,c='darkred',alpha = 0.6)\n",
    "plt.plot(Y_adv_m, label=\"Y_adv\",c='darkred',alpha = 0.8)\n",
    "plt.plot(Y_adv_u,c='darkred',alpha = 0.6)\n",
    "plt.plot(Y_b, c='teal', alpha = 0.6)\n",
    "plt.plot(Y_m, label=\"Y_ori\", c='teal', alpha = 0.8)\n",
    "plt.plot(Y_u, c='teal', alpha = 0.6)\n",
    "plt.title(model_name+\", \"+attack+\", \"+\"Y channel \")\n",
    "\n",
    "plt.legend()\n",
    "plt.savefig(model_name+\"_\"+attack+\"_\"+\"Y_channel.pdf\")"
   ]
  },
  {
   "cell_type": "markdown",
   "id": "eae73eae",
   "metadata": {},
   "source": []
  },
  {
   "cell_type": "code",
   "execution_count": null,
   "id": "078fe45f",
   "metadata": {},
   "outputs": [],
   "source": [
    "plt.figure(figsize=(10, 8), dpi=1024)\n",
    "plt.plot(Cb_adv_b,c='darkred',alpha = 0.6)\n",
    "plt.plot(Cb_adv_m, label=\"Y_adv\",c='darkred',alpha = 0.8)\n",
    "plt.plot(Cb_adv_u,c='darkred',alpha = 0.6)\n",
    "\n",
    "plt.plot(Cb_b,alpha = 0.6, c='teal')\n",
    "plt.plot(Cb_m, label=\"Y_ori\", c='teal', alpha = 0.8)\n",
    "plt.plot(Cb_u, c='teal', alpha = 0.6)\n",
    "plt.title(model_name+\", \"+attack+\", \"+\"Cb channel \")\n",
    "\n",
    "plt.legend()\n",
    "plt.savefig(model_name+\"_\"+attack+\"_\"+\"Cb_channel.pdf\")"
   ]
  },
  {
   "cell_type": "code",
   "execution_count": null,
   "id": "b959342a",
   "metadata": {},
   "outputs": [],
   "source": [
    "plt.figure(figsize=(10, 8), dpi=1024)\n",
    "plt.plot(Cr_adv_b,c='darkred',alpha = 0.6)\n",
    "plt.plot(Cr_adv_m, label=\"Y_adv\",c='darkred',alpha = 0.8)\n",
    "plt.plot(Cr_adv_u,c='darkred',alpha = 0.6)\n",
    "plt.plot(Cr_b,alpha = 0.6, c='teal')\n",
    "plt.plot(Cr_m, label=\"Y_ori\", c='teal', alpha = 0.8)\n",
    "plt.plot(Cr_u, c='teal', alpha = 0.6)\n",
    "plt.title(model_name+\", \"+attack+\", \"+\"Cr channel \")\n",
    "\n",
    "plt.legend()\n",
    "plt.savefig(model_name+\"_\"+attack+\"_\"+\"Cr_channel.pdf\")"
   ]
  },
  {
   "cell_type": "code",
   "execution_count": null,
   "id": "6c9ad239",
   "metadata": {},
   "outputs": [],
   "source": []
  },
  {
   "cell_type": "code",
   "execution_count": null,
   "id": "02a2f17a",
   "metadata": {},
   "outputs": [],
   "source": []
  }
 ],
 "metadata": {
  "kernelspec": {
   "display_name": "Python 3 (ipykernel)",
   "language": "python",
   "name": "python3"
  },
  "language_info": {
   "codemirror_mode": {
    "name": "ipython",
    "version": 3
   },
   "file_extension": ".py",
   "mimetype": "text/x-python",
   "name": "python",
   "nbconvert_exporter": "python",
   "pygments_lexer": "ipython3",
   "version": "3.8.10"
  },
  "vscode": {
   "interpreter": {
    "hash": "916dbcbb3f70747c44a77c7bcd40155683ae19c65e1c03b4aa3499c5328201f1"
   }
  }
 },
 "nbformat": 4,
 "nbformat_minor": 5
}
